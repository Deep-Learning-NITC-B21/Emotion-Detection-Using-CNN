{
 "cells": [
  {
   "cell_type": "code",
   "execution_count": 2,
   "id": "ebcc5bbd-3a54-44ea-a2ba-450214b5c6cb",
   "metadata": {},
   "outputs": [],
   "source": [
    "import numpy as np\n",
    "import tensorflow as tf"
   ]
  },
  {
   "cell_type": "code",
   "execution_count": 3,
   "id": "28007358-0b18-4fe5-913b-9fac03a67b8e",
   "metadata": {},
   "outputs": [
    {
     "name": "stdout",
     "output_type": "stream",
     "text": [
      "Jupyter Notebook successfully added to repository\n"
     ]
    }
   ],
   "source": [
    "print(\"Jupyter Notebook successfully added to repository\")"
   ]
  },
  {
   "cell_type": "code",
   "execution_count": null,
   "id": "ead0b605-6f78-4e70-8b7f-118d1bc88779",
   "metadata": {},
   "outputs": [],
   "source": []
  }
 ],
 "metadata": {
  "kernelspec": {
   "display_name": "Python 3 (ipykernel)",
   "language": "python",
   "name": "python3"
  },
  "language_info": {
   "codemirror_mode": {
    "name": "ipython",
    "version": 3
   },
   "file_extension": ".py",
   "mimetype": "text/x-python",
   "name": "python",
   "nbconvert_exporter": "python",
   "pygments_lexer": "ipython3",
   "version": "3.11.7"
  }
 },
 "nbformat": 4,
 "nbformat_minor": 5
}
